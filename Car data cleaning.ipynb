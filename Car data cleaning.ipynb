{
 "cells": [
  {
   "cell_type": "code",
   "execution_count": 2,
   "id": "7c9313ab-4399-449b-933a-c02a6e8c325a",
   "metadata": {},
   "outputs": [],
   "source": [
    "import pandas as pd\n",
    "import matplotlib.pyplot as plt\n",
    "import seaborn as sns"
   ]
  },
  {
   "cell_type": "code",
   "execution_count": 3,
   "id": "b519e7e1-75a9-44e1-b0e1-55cb196ca720",
   "metadata": {},
   "outputs": [],
   "source": [
    "dataset = pd.read_csv('D:\\DA DS\\data cleaning datasets\\cars_delhi.csv')"
   ]
  },
  {
   "cell_type": "code",
   "execution_count": 4,
   "id": "5f5bce86-0c6e-474c-967b-f14c5fd83adf",
   "metadata": {},
   "outputs": [
    {
     "data": {
      "text/html": [
       "<div>\n",
       "<style scoped>\n",
       "    .dataframe tbody tr th:only-of-type {\n",
       "        vertical-align: middle;\n",
       "    }\n",
       "\n",
       "    .dataframe tbody tr th {\n",
       "        vertical-align: top;\n",
       "    }\n",
       "\n",
       "    .dataframe thead th {\n",
       "        text-align: right;\n",
       "    }\n",
       "</style>\n",
       "<table border=\"1\" class=\"dataframe\">\n",
       "  <thead>\n",
       "    <tr style=\"text-align: right;\">\n",
       "      <th></th>\n",
       "      <th>car_name</th>\n",
       "      <th>variant</th>\n",
       "      <th>transmission</th>\n",
       "      <th>km_driven</th>\n",
       "      <th>owner_type</th>\n",
       "      <th>fuel_type</th>\n",
       "      <th>registeration</th>\n",
       "      <th>price</th>\n",
       "      <th>Date</th>\n",
       "    </tr>\n",
       "  </thead>\n",
       "  <tbody>\n",
       "    <tr>\n",
       "      <th>0</th>\n",
       "      <td>2018 Tata NEXON</td>\n",
       "      <td>XM 1.2</td>\n",
       "      <td>Manual</td>\n",
       "      <td>95,230 km</td>\n",
       "      <td>1st Owner</td>\n",
       "      <td>Petrol</td>\n",
       "      <td>UP-16</td>\n",
       "      <td>₹6,50,000</td>\n",
       "      <td>31 December 2018</td>\n",
       "    </tr>\n",
       "    <tr>\n",
       "      <th>1</th>\n",
       "      <td>2017 Renault Kwid</td>\n",
       "      <td>1.0 RXT Opt</td>\n",
       "      <td>Manual</td>\n",
       "      <td>72,956 km</td>\n",
       "      <td>2nd Owner</td>\n",
       "      <td>Petrol</td>\n",
       "      <td>HR-11</td>\n",
       "      <td>₹3,19,000</td>\n",
       "      <td>05 March 2019</td>\n",
       "    </tr>\n",
       "  </tbody>\n",
       "</table>\n",
       "</div>"
      ],
      "text/plain": [
       "            car_name      variant transmission  km_driven owner_type  \\\n",
       "0    2018 Tata NEXON       XM 1.2       Manual  95,230 km  1st Owner   \n",
       "1  2017 Renault Kwid  1.0 RXT Opt       Manual  72,956 km  2nd Owner   \n",
       "\n",
       "  fuel_type registeration      price              Date  \n",
       "0    Petrol         UP-16  ₹6,50,000  31 December 2018  \n",
       "1    Petrol         HR-11  ₹3,19,000     05 March 2019  "
      ]
     },
     "execution_count": 4,
     "metadata": {},
     "output_type": "execute_result"
    }
   ],
   "source": [
    "dataset.head(2)"
   ]
  },
  {
   "cell_type": "code",
   "execution_count": 5,
   "id": "9e58fe34-4ded-417c-869b-30f2b2264d21",
   "metadata": {},
   "outputs": [
    {
     "name": "stdout",
     "output_type": "stream",
     "text": [
      "<class 'pandas.core.frame.DataFrame'>\n",
      "RangeIndex: 899 entries, 0 to 898\n",
      "Data columns (total 9 columns):\n",
      " #   Column         Non-Null Count  Dtype \n",
      "---  ------         --------------  ----- \n",
      " 0   car_name       899 non-null    object\n",
      " 1   variant        896 non-null    object\n",
      " 2   transmission   893 non-null    object\n",
      " 3   km_driven      897 non-null    object\n",
      " 4   owner_type     899 non-null    object\n",
      " 5   fuel_type      899 non-null    object\n",
      " 6   registeration  898 non-null    object\n",
      " 7   price          899 non-null    object\n",
      " 8   Date           899 non-null    object\n",
      "dtypes: object(9)\n",
      "memory usage: 63.3+ KB\n"
     ]
    }
   ],
   "source": [
    "dataset.info()"
   ]
  },
  {
   "cell_type": "code",
   "execution_count": 6,
   "id": "c55017c2-7926-4939-a089-a5abd1a06e6e",
   "metadata": {},
   "outputs": [
    {
     "data": {
      "text/plain": [
       "899"
      ]
     },
     "execution_count": 6,
     "metadata": {},
     "output_type": "execute_result"
    }
   ],
   "source": [
    "dataset.shape[0]"
   ]
  },
  {
   "cell_type": "code",
   "execution_count": 7,
   "id": "e37c05c4-f2a9-4fea-9a37-005681f3c68a",
   "metadata": {},
   "outputs": [
    {
     "data": {
      "text/plain": [
       "car_name         0\n",
       "variant          3\n",
       "transmission     6\n",
       "km_driven        2\n",
       "owner_type       0\n",
       "fuel_type        0\n",
       "registeration    1\n",
       "price            0\n",
       "Date             0\n",
       "dtype: int64"
      ]
     },
     "execution_count": 7,
     "metadata": {},
     "output_type": "execute_result"
    }
   ],
   "source": [
    "dataset.isnull().sum()"
   ]
  },
  {
   "cell_type": "code",
   "execution_count": 8,
   "id": "98097a24-f677-4468-86c2-2c058c6ef041",
   "metadata": {},
   "outputs": [
    {
     "data": {
      "text/plain": [
       "car_name         0.000000\n",
       "variant          0.333704\n",
       "transmission     0.667408\n",
       "km_driven        0.222469\n",
       "owner_type       0.000000\n",
       "fuel_type        0.000000\n",
       "registeration    0.111235\n",
       "price            0.000000\n",
       "Date             0.000000\n",
       "dtype: float64"
      ]
     },
     "execution_count": 8,
     "metadata": {},
     "output_type": "execute_result"
    }
   ],
   "source": [
    "(dataset.isnull().sum()/dataset.shape[0])*100"
   ]
  },
  {
   "cell_type": "code",
   "execution_count": 9,
   "id": "926bbcf5-5a30-47ba-b6f9-f42961acb194",
   "metadata": {},
   "outputs": [],
   "source": [
    "dataset.dropna(inplace=True)"
   ]
  },
  {
   "cell_type": "code",
   "execution_count": 10,
   "id": "80f19c07-fbf3-420c-aa20-a0ebdaa558b2",
   "metadata": {},
   "outputs": [
    {
     "data": {
      "text/html": [
       "<div>\n",
       "<style scoped>\n",
       "    .dataframe tbody tr th:only-of-type {\n",
       "        vertical-align: middle;\n",
       "    }\n",
       "\n",
       "    .dataframe tbody tr th {\n",
       "        vertical-align: top;\n",
       "    }\n",
       "\n",
       "    .dataframe thead th {\n",
       "        text-align: right;\n",
       "    }\n",
       "</style>\n",
       "<table border=\"1\" class=\"dataframe\">\n",
       "  <thead>\n",
       "    <tr style=\"text-align: right;\">\n",
       "      <th></th>\n",
       "      <th>car_name</th>\n",
       "      <th>variant</th>\n",
       "      <th>transmission</th>\n",
       "      <th>km_driven</th>\n",
       "      <th>owner_type</th>\n",
       "      <th>fuel_type</th>\n",
       "      <th>registeration</th>\n",
       "      <th>price</th>\n",
       "      <th>Date</th>\n",
       "    </tr>\n",
       "  </thead>\n",
       "  <tbody>\n",
       "    <tr>\n",
       "      <th>0</th>\n",
       "      <td>2018 Tata NEXON</td>\n",
       "      <td>XM 1.2</td>\n",
       "      <td>Manual</td>\n",
       "      <td>95,230 km</td>\n",
       "      <td>1st Owner</td>\n",
       "      <td>Petrol</td>\n",
       "      <td>UP-16</td>\n",
       "      <td>₹6,50,000</td>\n",
       "      <td>31 December 2018</td>\n",
       "    </tr>\n",
       "    <tr>\n",
       "      <th>1</th>\n",
       "      <td>2017 Renault Kwid</td>\n",
       "      <td>1.0 RXT Opt</td>\n",
       "      <td>Manual</td>\n",
       "      <td>72,956 km</td>\n",
       "      <td>2nd Owner</td>\n",
       "      <td>Petrol</td>\n",
       "      <td>HR-11</td>\n",
       "      <td>₹3,19,000</td>\n",
       "      <td>05 March 2019</td>\n",
       "    </tr>\n",
       "  </tbody>\n",
       "</table>\n",
       "</div>"
      ],
      "text/plain": [
       "            car_name      variant transmission  km_driven owner_type  \\\n",
       "0    2018 Tata NEXON       XM 1.2       Manual  95,230 km  1st Owner   \n",
       "1  2017 Renault Kwid  1.0 RXT Opt       Manual  72,956 km  2nd Owner   \n",
       "\n",
       "  fuel_type registeration      price              Date  \n",
       "0    Petrol         UP-16  ₹6,50,000  31 December 2018  \n",
       "1    Petrol         HR-11  ₹3,19,000     05 March 2019  "
      ]
     },
     "execution_count": 10,
     "metadata": {},
     "output_type": "execute_result"
    }
   ],
   "source": [
    "dataset.head(2)"
   ]
  },
  {
   "cell_type": "markdown",
   "id": "92120f2b-f6a1-4541-b9c0-cc5b874a67ba",
   "metadata": {},
   "source": [
    "# changing car name"
   ]
  },
  {
   "cell_type": "code",
   "execution_count": 11,
   "id": "0ccce779-4a84-468f-afb0-9cb5b729d5e8",
   "metadata": {},
   "outputs": [
    {
     "data": {
      "text/plain": [
       "0              2018 Tata NEXON\n",
       "1            2017 Renault Kwid\n",
       "2       2017 HYUNDAI ELITE I20\n",
       "3        2019 Mahindra XUV 3OO\n",
       "4           2020 Hyundai Creta\n",
       "                ...           \n",
       "894         2021 Renault Kiger\n",
       "895           2021 Maruti ALTO\n",
       "896    2020 Maruti New Wagon-R\n",
       "897             2020 KIA SONET\n",
       "898          2011 Maruti Swift\n",
       "Name: car_name, Length: 887, dtype: object"
      ]
     },
     "execution_count": 11,
     "metadata": {},
     "output_type": "execute_result"
    }
   ],
   "source": [
    "dataset[\"car_name\"]"
   ]
  },
  {
   "cell_type": "code",
   "execution_count": 12,
   "id": "ae6e52a5-a74e-4f58-8f7c-7cea6942e08c",
   "metadata": {},
   "outputs": [],
   "source": [
    "def year(x):\n",
    "    return x[:x.index(\" \")]"
   ]
  },
  {
   "cell_type": "code",
   "execution_count": 13,
   "id": "f1d2043e-0f19-44f0-a243-feb2219e2b70",
   "metadata": {},
   "outputs": [],
   "source": [
    "dataset[\"year\"] = dataset[\"car_name\"].apply(year)"
   ]
  },
  {
   "cell_type": "code",
   "execution_count": 14,
   "id": "64570d03-edb3-4852-881f-9a1d8cf924e6",
   "metadata": {},
   "outputs": [
    {
     "data": {
      "text/plain": [
       "0      2018\n",
       "1      2017\n",
       "2      2017\n",
       "3      2019\n",
       "4      2020\n",
       "       ... \n",
       "894    2021\n",
       "895    2021\n",
       "896    2020\n",
       "897    2020\n",
       "898    2011\n",
       "Name: year, Length: 887, dtype: object"
      ]
     },
     "execution_count": 14,
     "metadata": {},
     "output_type": "execute_result"
    }
   ],
   "source": [
    "dataset[\"year\"]"
   ]
  },
  {
   "cell_type": "code",
   "execution_count": 15,
   "id": "30eb96d8-78b2-496f-b694-33896c4483a9",
   "metadata": {},
   "outputs": [],
   "source": [
    "def car_name(x):\n",
    "    return x[x.index(\" \")+1:]"
   ]
  },
  {
   "cell_type": "code",
   "execution_count": 16,
   "id": "a256ebfc-4806-40d2-a80a-d5dd1745e9cc",
   "metadata": {},
   "outputs": [],
   "source": [
    "dataset[\"car_name\"] = dataset[\"car_name\"].apply(car_name)"
   ]
  },
  {
   "cell_type": "code",
   "execution_count": 17,
   "id": "abf43d20-96ee-44b4-b46d-89e75485a3dc",
   "metadata": {},
   "outputs": [
    {
     "data": {
      "text/plain": [
       "0              Tata NEXON\n",
       "1            Renault Kwid\n",
       "2       HYUNDAI ELITE I20\n",
       "3        Mahindra XUV 3OO\n",
       "4           Hyundai Creta\n",
       "              ...        \n",
       "894         Renault Kiger\n",
       "895           Maruti ALTO\n",
       "896    Maruti New Wagon-R\n",
       "897             KIA SONET\n",
       "898          Maruti Swift\n",
       "Name: car_name, Length: 887, dtype: object"
      ]
     },
     "execution_count": 17,
     "metadata": {},
     "output_type": "execute_result"
    }
   ],
   "source": [
    "dataset[\"car_name\"]"
   ]
  },
  {
   "cell_type": "code",
   "execution_count": 18,
   "id": "51e80aca-b6bd-4534-84fa-d304937302b8",
   "metadata": {},
   "outputs": [
    {
     "data": {
      "text/html": [
       "<div>\n",
       "<style scoped>\n",
       "    .dataframe tbody tr th:only-of-type {\n",
       "        vertical-align: middle;\n",
       "    }\n",
       "\n",
       "    .dataframe tbody tr th {\n",
       "        vertical-align: top;\n",
       "    }\n",
       "\n",
       "    .dataframe thead th {\n",
       "        text-align: right;\n",
       "    }\n",
       "</style>\n",
       "<table border=\"1\" class=\"dataframe\">\n",
       "  <thead>\n",
       "    <tr style=\"text-align: right;\">\n",
       "      <th></th>\n",
       "      <th>car_name</th>\n",
       "      <th>variant</th>\n",
       "      <th>transmission</th>\n",
       "      <th>km_driven</th>\n",
       "      <th>owner_type</th>\n",
       "      <th>fuel_type</th>\n",
       "      <th>registeration</th>\n",
       "      <th>price</th>\n",
       "      <th>Date</th>\n",
       "      <th>year</th>\n",
       "    </tr>\n",
       "  </thead>\n",
       "  <tbody>\n",
       "    <tr>\n",
       "      <th>0</th>\n",
       "      <td>Tata NEXON</td>\n",
       "      <td>XM 1.2</td>\n",
       "      <td>Manual</td>\n",
       "      <td>95,230 km</td>\n",
       "      <td>1st Owner</td>\n",
       "      <td>Petrol</td>\n",
       "      <td>UP-16</td>\n",
       "      <td>₹6,50,000</td>\n",
       "      <td>31 December 2018</td>\n",
       "      <td>2018</td>\n",
       "    </tr>\n",
       "    <tr>\n",
       "      <th>1</th>\n",
       "      <td>Renault Kwid</td>\n",
       "      <td>1.0 RXT Opt</td>\n",
       "      <td>Manual</td>\n",
       "      <td>72,956 km</td>\n",
       "      <td>2nd Owner</td>\n",
       "      <td>Petrol</td>\n",
       "      <td>HR-11</td>\n",
       "      <td>₹3,19,000</td>\n",
       "      <td>05 March 2019</td>\n",
       "      <td>2017</td>\n",
       "    </tr>\n",
       "  </tbody>\n",
       "</table>\n",
       "</div>"
      ],
      "text/plain": [
       "       car_name      variant transmission  km_driven owner_type fuel_type  \\\n",
       "0    Tata NEXON       XM 1.2       Manual  95,230 km  1st Owner    Petrol   \n",
       "1  Renault Kwid  1.0 RXT Opt       Manual  72,956 km  2nd Owner    Petrol   \n",
       "\n",
       "  registeration      price              Date  year  \n",
       "0         UP-16  ₹6,50,000  31 December 2018  2018  \n",
       "1         HR-11  ₹3,19,000     05 March 2019  2017  "
      ]
     },
     "execution_count": 18,
     "metadata": {},
     "output_type": "execute_result"
    }
   ],
   "source": [
    "dataset.head(2)"
   ]
  },
  {
   "cell_type": "code",
   "execution_count": 19,
   "id": "d00b2f2c-4728-407a-b0e9-3bb18a75d11c",
   "metadata": {},
   "outputs": [
    {
     "data": {
      "text/plain": [
       "0       ₹6,50,000\n",
       "1       ₹3,19,000\n",
       "2       ₹5,87,000\n",
       "3       ₹8,22,000\n",
       "4      ₹16,74,000\n",
       "          ...    \n",
       "894     ₹9,90,000\n",
       "895     ₹4,38,000\n",
       "896     ₹5,67,000\n",
       "897    ₹12,71,000\n",
       "898     ₹2,93,000\n",
       "Name: price, Length: 887, dtype: object"
      ]
     },
     "execution_count": 19,
     "metadata": {},
     "output_type": "execute_result"
    }
   ],
   "source": [
    "dataset[\"price\"]"
   ]
  },
  {
   "cell_type": "markdown",
   "id": "d77bb964-8422-4fb4-a1fc-d679d7720ed9",
   "metadata": {},
   "source": [
    "# Relace , and $"
   ]
  },
  {
   "cell_type": "code",
   "execution_count": 20,
   "id": "cbc2f308-2d03-4724-a385-30b35b5f73c6",
   "metadata": {},
   "outputs": [],
   "source": [
    "dataset[\"price\"] = dataset[\"price\"].str.replace(\",\",\"\")"
   ]
  },
  {
   "cell_type": "code",
   "execution_count": 21,
   "id": "113da9a8-bf54-4476-b33c-66e42e9b5a42",
   "metadata": {},
   "outputs": [
    {
     "data": {
      "text/plain": [
       "0       ₹650000\n",
       "1       ₹319000\n",
       "2       ₹587000\n",
       "3       ₹822000\n",
       "4      ₹1674000\n",
       "         ...   \n",
       "894     ₹990000\n",
       "895     ₹438000\n",
       "896     ₹567000\n",
       "897    ₹1271000\n",
       "898     ₹293000\n",
       "Name: price, Length: 887, dtype: object"
      ]
     },
     "execution_count": 21,
     "metadata": {},
     "output_type": "execute_result"
    }
   ],
   "source": [
    "dataset[\"price\"]"
   ]
  },
  {
   "cell_type": "code",
   "execution_count": 22,
   "id": "0ddb1cc7-78b6-4ede-b4eb-f626a482c7fb",
   "metadata": {},
   "outputs": [],
   "source": [
    "dataset[\"price\"] = dataset[\"price\"].str.replace(\"₹\",\"\")"
   ]
  },
  {
   "cell_type": "code",
   "execution_count": 23,
   "id": "de78af4b-7b3f-48d5-b9b7-3366e6dc9a67",
   "metadata": {},
   "outputs": [
    {
     "data": {
      "text/plain": [
       "0       650000\n",
       "1       319000\n",
       "2       587000\n",
       "3       822000\n",
       "4      1674000\n",
       "        ...   \n",
       "894     990000\n",
       "895     438000\n",
       "896     567000\n",
       "897    1271000\n",
       "898     293000\n",
       "Name: price, Length: 887, dtype: object"
      ]
     },
     "execution_count": 23,
     "metadata": {},
     "output_type": "execute_result"
    }
   ],
   "source": [
    "dataset[\"price\"]"
   ]
  },
  {
   "cell_type": "code",
   "execution_count": 24,
   "id": "d147cb79-49c7-40fe-9a26-2497ef9065ed",
   "metadata": {},
   "outputs": [
    {
     "data": {
      "text/html": [
       "<div>\n",
       "<style scoped>\n",
       "    .dataframe tbody tr th:only-of-type {\n",
       "        vertical-align: middle;\n",
       "    }\n",
       "\n",
       "    .dataframe tbody tr th {\n",
       "        vertical-align: top;\n",
       "    }\n",
       "\n",
       "    .dataframe thead th {\n",
       "        text-align: right;\n",
       "    }\n",
       "</style>\n",
       "<table border=\"1\" class=\"dataframe\">\n",
       "  <thead>\n",
       "    <tr style=\"text-align: right;\">\n",
       "      <th></th>\n",
       "      <th>car_name</th>\n",
       "      <th>variant</th>\n",
       "      <th>transmission</th>\n",
       "      <th>km_driven</th>\n",
       "      <th>owner_type</th>\n",
       "      <th>fuel_type</th>\n",
       "      <th>registeration</th>\n",
       "      <th>price</th>\n",
       "      <th>Date</th>\n",
       "      <th>year</th>\n",
       "    </tr>\n",
       "  </thead>\n",
       "  <tbody>\n",
       "    <tr>\n",
       "      <th>0</th>\n",
       "      <td>Tata NEXON</td>\n",
       "      <td>XM 1.2</td>\n",
       "      <td>Manual</td>\n",
       "      <td>95,230 km</td>\n",
       "      <td>1st Owner</td>\n",
       "      <td>Petrol</td>\n",
       "      <td>UP-16</td>\n",
       "      <td>650000</td>\n",
       "      <td>31 December 2018</td>\n",
       "      <td>2018</td>\n",
       "    </tr>\n",
       "    <tr>\n",
       "      <th>1</th>\n",
       "      <td>Renault Kwid</td>\n",
       "      <td>1.0 RXT Opt</td>\n",
       "      <td>Manual</td>\n",
       "      <td>72,956 km</td>\n",
       "      <td>2nd Owner</td>\n",
       "      <td>Petrol</td>\n",
       "      <td>HR-11</td>\n",
       "      <td>319000</td>\n",
       "      <td>05 March 2019</td>\n",
       "      <td>2017</td>\n",
       "    </tr>\n",
       "  </tbody>\n",
       "</table>\n",
       "</div>"
      ],
      "text/plain": [
       "       car_name      variant transmission  km_driven owner_type fuel_type  \\\n",
       "0    Tata NEXON       XM 1.2       Manual  95,230 km  1st Owner    Petrol   \n",
       "1  Renault Kwid  1.0 RXT Opt       Manual  72,956 km  2nd Owner    Petrol   \n",
       "\n",
       "  registeration   price              Date  year  \n",
       "0         UP-16  650000  31 December 2018  2018  \n",
       "1         HR-11  319000     05 March 2019  2017  "
      ]
     },
     "execution_count": 24,
     "metadata": {},
     "output_type": "execute_result"
    }
   ],
   "source": [
    "dataset.head(2)"
   ]
  },
  {
   "cell_type": "code",
   "execution_count": 25,
   "id": "90f0ab67-f4a5-4973-9854-28e5d9e852f8",
   "metadata": {},
   "outputs": [
    {
     "name": "stdout",
     "output_type": "stream",
     "text": [
      "<class 'pandas.core.frame.DataFrame'>\n",
      "Index: 887 entries, 0 to 898\n",
      "Data columns (total 10 columns):\n",
      " #   Column         Non-Null Count  Dtype \n",
      "---  ------         --------------  ----- \n",
      " 0   car_name       887 non-null    object\n",
      " 1   variant        887 non-null    object\n",
      " 2   transmission   887 non-null    object\n",
      " 3   km_driven      887 non-null    object\n",
      " 4   owner_type     887 non-null    object\n",
      " 5   fuel_type      887 non-null    object\n",
      " 6   registeration  887 non-null    object\n",
      " 7   price          887 non-null    object\n",
      " 8   Date           887 non-null    object\n",
      " 9   year           887 non-null    object\n",
      "dtypes: object(10)\n",
      "memory usage: 76.2+ KB\n"
     ]
    }
   ],
   "source": [
    "dataset.info()"
   ]
  },
  {
   "cell_type": "code",
   "execution_count": 26,
   "id": "04e067e2-1281-4b47-bcff-a27474a5003d",
   "metadata": {},
   "outputs": [],
   "source": [
    " dataset['price'] = dataset[\"price\"].astype(\"float\")"
   ]
  },
  {
   "cell_type": "code",
   "execution_count": 27,
   "id": "e8d3281f-5e84-4f98-9e88-b2421611dec4",
   "metadata": {},
   "outputs": [
    {
     "name": "stdout",
     "output_type": "stream",
     "text": [
      "<class 'pandas.core.frame.DataFrame'>\n",
      "Index: 887 entries, 0 to 898\n",
      "Data columns (total 10 columns):\n",
      " #   Column         Non-Null Count  Dtype  \n",
      "---  ------         --------------  -----  \n",
      " 0   car_name       887 non-null    object \n",
      " 1   variant        887 non-null    object \n",
      " 2   transmission   887 non-null    object \n",
      " 3   km_driven      887 non-null    object \n",
      " 4   owner_type     887 non-null    object \n",
      " 5   fuel_type      887 non-null    object \n",
      " 6   registeration  887 non-null    object \n",
      " 7   price          887 non-null    float64\n",
      " 8   Date           887 non-null    object \n",
      " 9   year           887 non-null    object \n",
      "dtypes: float64(1), object(9)\n",
      "memory usage: 76.2+ KB\n"
     ]
    }
   ],
   "source": [
    "dataset.info()"
   ]
  },
  {
   "cell_type": "code",
   "execution_count": 28,
   "id": "d36ea475-0b75-4efd-8401-00de7344229c",
   "metadata": {},
   "outputs": [
    {
     "data": {
      "text/html": [
       "<div>\n",
       "<style scoped>\n",
       "    .dataframe tbody tr th:only-of-type {\n",
       "        vertical-align: middle;\n",
       "    }\n",
       "\n",
       "    .dataframe tbody tr th {\n",
       "        vertical-align: top;\n",
       "    }\n",
       "\n",
       "    .dataframe thead th {\n",
       "        text-align: right;\n",
       "    }\n",
       "</style>\n",
       "<table border=\"1\" class=\"dataframe\">\n",
       "  <thead>\n",
       "    <tr style=\"text-align: right;\">\n",
       "      <th></th>\n",
       "      <th>car_name</th>\n",
       "      <th>variant</th>\n",
       "      <th>transmission</th>\n",
       "      <th>km_driven</th>\n",
       "      <th>owner_type</th>\n",
       "      <th>fuel_type</th>\n",
       "      <th>registeration</th>\n",
       "      <th>price</th>\n",
       "      <th>Date</th>\n",
       "      <th>year</th>\n",
       "    </tr>\n",
       "  </thead>\n",
       "  <tbody>\n",
       "    <tr>\n",
       "      <th>0</th>\n",
       "      <td>Tata NEXON</td>\n",
       "      <td>XM 1.2</td>\n",
       "      <td>Manual</td>\n",
       "      <td>95,230 km</td>\n",
       "      <td>1st Owner</td>\n",
       "      <td>Petrol</td>\n",
       "      <td>UP-16</td>\n",
       "      <td>650000.0</td>\n",
       "      <td>31 December 2018</td>\n",
       "      <td>2018</td>\n",
       "    </tr>\n",
       "    <tr>\n",
       "      <th>1</th>\n",
       "      <td>Renault Kwid</td>\n",
       "      <td>1.0 RXT Opt</td>\n",
       "      <td>Manual</td>\n",
       "      <td>72,956 km</td>\n",
       "      <td>2nd Owner</td>\n",
       "      <td>Petrol</td>\n",
       "      <td>HR-11</td>\n",
       "      <td>319000.0</td>\n",
       "      <td>05 March 2019</td>\n",
       "      <td>2017</td>\n",
       "    </tr>\n",
       "  </tbody>\n",
       "</table>\n",
       "</div>"
      ],
      "text/plain": [
       "       car_name      variant transmission  km_driven owner_type fuel_type  \\\n",
       "0    Tata NEXON       XM 1.2       Manual  95,230 km  1st Owner    Petrol   \n",
       "1  Renault Kwid  1.0 RXT Opt       Manual  72,956 km  2nd Owner    Petrol   \n",
       "\n",
       "  registeration     price              Date  year  \n",
       "0         UP-16  650000.0  31 December 2018  2018  \n",
       "1         HR-11  319000.0     05 March 2019  2017  "
      ]
     },
     "execution_count": 28,
     "metadata": {},
     "output_type": "execute_result"
    }
   ],
   "source": [
    "dataset.head(2)"
   ]
  },
  {
   "cell_type": "markdown",
   "id": "c489d4e9-5611-4589-96f3-42607c9a89ae",
   "metadata": {},
   "source": [
    "# km_driven replace km"
   ]
  },
  {
   "cell_type": "code",
   "execution_count": 29,
   "id": "0bd9077f-907f-4c03-b40a-5979c5bd97cb",
   "metadata": {},
   "outputs": [],
   "source": [
    "dataset['km_driven'] = dataset['km_driven'].str.replace(\",\",\"\")\n",
    "dataset['km_driven'] = dataset['km_driven'].str.replace(\" km\", \"\")"
   ]
  },
  {
   "cell_type": "code",
   "execution_count": 30,
   "id": "3beec56a-e8e5-4a13-95bd-6ca97f2870fa",
   "metadata": {},
   "outputs": [
    {
     "data": {
      "text/html": [
       "<div>\n",
       "<style scoped>\n",
       "    .dataframe tbody tr th:only-of-type {\n",
       "        vertical-align: middle;\n",
       "    }\n",
       "\n",
       "    .dataframe tbody tr th {\n",
       "        vertical-align: top;\n",
       "    }\n",
       "\n",
       "    .dataframe thead th {\n",
       "        text-align: right;\n",
       "    }\n",
       "</style>\n",
       "<table border=\"1\" class=\"dataframe\">\n",
       "  <thead>\n",
       "    <tr style=\"text-align: right;\">\n",
       "      <th></th>\n",
       "      <th>car_name</th>\n",
       "      <th>variant</th>\n",
       "      <th>transmission</th>\n",
       "      <th>km_driven</th>\n",
       "      <th>owner_type</th>\n",
       "      <th>fuel_type</th>\n",
       "      <th>registeration</th>\n",
       "      <th>price</th>\n",
       "      <th>Date</th>\n",
       "      <th>year</th>\n",
       "    </tr>\n",
       "  </thead>\n",
       "  <tbody>\n",
       "    <tr>\n",
       "      <th>0</th>\n",
       "      <td>Tata NEXON</td>\n",
       "      <td>XM 1.2</td>\n",
       "      <td>Manual</td>\n",
       "      <td>95230</td>\n",
       "      <td>1st Owner</td>\n",
       "      <td>Petrol</td>\n",
       "      <td>UP-16</td>\n",
       "      <td>650000.0</td>\n",
       "      <td>31 December 2018</td>\n",
       "      <td>2018</td>\n",
       "    </tr>\n",
       "    <tr>\n",
       "      <th>1</th>\n",
       "      <td>Renault Kwid</td>\n",
       "      <td>1.0 RXT Opt</td>\n",
       "      <td>Manual</td>\n",
       "      <td>72956</td>\n",
       "      <td>2nd Owner</td>\n",
       "      <td>Petrol</td>\n",
       "      <td>HR-11</td>\n",
       "      <td>319000.0</td>\n",
       "      <td>05 March 2019</td>\n",
       "      <td>2017</td>\n",
       "    </tr>\n",
       "  </tbody>\n",
       "</table>\n",
       "</div>"
      ],
      "text/plain": [
       "       car_name      variant transmission km_driven owner_type fuel_type  \\\n",
       "0    Tata NEXON       XM 1.2       Manual     95230  1st Owner    Petrol   \n",
       "1  Renault Kwid  1.0 RXT Opt       Manual     72956  2nd Owner    Petrol   \n",
       "\n",
       "  registeration     price              Date  year  \n",
       "0         UP-16  650000.0  31 December 2018  2018  \n",
       "1         HR-11  319000.0     05 March 2019  2017  "
      ]
     },
     "execution_count": 30,
     "metadata": {},
     "output_type": "execute_result"
    }
   ],
   "source": [
    "dataset.head(2)"
   ]
  },
  {
   "cell_type": "code",
   "execution_count": 31,
   "id": "e6e238bb-c997-44b1-8f79-1595d411d75c",
   "metadata": {},
   "outputs": [
    {
     "name": "stdout",
     "output_type": "stream",
     "text": [
      "<class 'pandas.core.frame.DataFrame'>\n",
      "Index: 887 entries, 0 to 898\n",
      "Data columns (total 10 columns):\n",
      " #   Column         Non-Null Count  Dtype  \n",
      "---  ------         --------------  -----  \n",
      " 0   car_name       887 non-null    object \n",
      " 1   variant        887 non-null    object \n",
      " 2   transmission   887 non-null    object \n",
      " 3   km_driven      887 non-null    object \n",
      " 4   owner_type     887 non-null    object \n",
      " 5   fuel_type      887 non-null    object \n",
      " 6   registeration  887 non-null    object \n",
      " 7   price          887 non-null    float64\n",
      " 8   Date           887 non-null    object \n",
      " 9   year           887 non-null    object \n",
      "dtypes: float64(1), object(9)\n",
      "memory usage: 76.2+ KB\n"
     ]
    }
   ],
   "source": [
    "dataset.info()"
   ]
  },
  {
   "cell_type": "code",
   "execution_count": 32,
   "id": "71ea5fbb-adc2-4d96-b619-ce58253dc71b",
   "metadata": {},
   "outputs": [],
   "source": [
    "dataset['km_driven'] = dataset['km_driven'].astype(\"int\")"
   ]
  },
  {
   "cell_type": "code",
   "execution_count": 33,
   "id": "0c1549e1-658a-4c95-a4bb-cbb17cd21f55",
   "metadata": {},
   "outputs": [
    {
     "name": "stdout",
     "output_type": "stream",
     "text": [
      "<class 'pandas.core.frame.DataFrame'>\n",
      "Index: 887 entries, 0 to 898\n",
      "Data columns (total 10 columns):\n",
      " #   Column         Non-Null Count  Dtype  \n",
      "---  ------         --------------  -----  \n",
      " 0   car_name       887 non-null    object \n",
      " 1   variant        887 non-null    object \n",
      " 2   transmission   887 non-null    object \n",
      " 3   km_driven      887 non-null    int64  \n",
      " 4   owner_type     887 non-null    object \n",
      " 5   fuel_type      887 non-null    object \n",
      " 6   registeration  887 non-null    object \n",
      " 7   price          887 non-null    float64\n",
      " 8   Date           887 non-null    object \n",
      " 9   year           887 non-null    object \n",
      "dtypes: float64(1), int64(1), object(8)\n",
      "memory usage: 76.2+ KB\n"
     ]
    }
   ],
   "source": [
    "dataset.info()"
   ]
  },
  {
   "cell_type": "markdown",
   "id": "30dc8eaf-60c7-4596-becc-7ec947a82746",
   "metadata": {},
   "source": [
    "# changing date format"
   ]
  },
  {
   "cell_type": "code",
   "execution_count": 34,
   "id": "e981d6c0-7edb-45cd-a070-84cc0c77224c",
   "metadata": {},
   "outputs": [],
   "source": [
    "dataset['Date'] = pd.to_datetime(dataset['Date'])"
   ]
  },
  {
   "cell_type": "code",
   "execution_count": 35,
   "id": "bc18ef9f-785f-4085-9441-28d5f084720b",
   "metadata": {},
   "outputs": [
    {
     "data": {
      "text/html": [
       "<div>\n",
       "<style scoped>\n",
       "    .dataframe tbody tr th:only-of-type {\n",
       "        vertical-align: middle;\n",
       "    }\n",
       "\n",
       "    .dataframe tbody tr th {\n",
       "        vertical-align: top;\n",
       "    }\n",
       "\n",
       "    .dataframe thead th {\n",
       "        text-align: right;\n",
       "    }\n",
       "</style>\n",
       "<table border=\"1\" class=\"dataframe\">\n",
       "  <thead>\n",
       "    <tr style=\"text-align: right;\">\n",
       "      <th></th>\n",
       "      <th>car_name</th>\n",
       "      <th>variant</th>\n",
       "      <th>transmission</th>\n",
       "      <th>km_driven</th>\n",
       "      <th>owner_type</th>\n",
       "      <th>fuel_type</th>\n",
       "      <th>registeration</th>\n",
       "      <th>price</th>\n",
       "      <th>Date</th>\n",
       "      <th>year</th>\n",
       "    </tr>\n",
       "  </thead>\n",
       "  <tbody>\n",
       "    <tr>\n",
       "      <th>0</th>\n",
       "      <td>Tata NEXON</td>\n",
       "      <td>XM 1.2</td>\n",
       "      <td>Manual</td>\n",
       "      <td>95230</td>\n",
       "      <td>1st Owner</td>\n",
       "      <td>Petrol</td>\n",
       "      <td>UP-16</td>\n",
       "      <td>650000.0</td>\n",
       "      <td>2018-12-31</td>\n",
       "      <td>2018</td>\n",
       "    </tr>\n",
       "    <tr>\n",
       "      <th>1</th>\n",
       "      <td>Renault Kwid</td>\n",
       "      <td>1.0 RXT Opt</td>\n",
       "      <td>Manual</td>\n",
       "      <td>72956</td>\n",
       "      <td>2nd Owner</td>\n",
       "      <td>Petrol</td>\n",
       "      <td>HR-11</td>\n",
       "      <td>319000.0</td>\n",
       "      <td>2019-03-05</td>\n",
       "      <td>2017</td>\n",
       "    </tr>\n",
       "  </tbody>\n",
       "</table>\n",
       "</div>"
      ],
      "text/plain": [
       "       car_name      variant transmission  km_driven owner_type fuel_type  \\\n",
       "0    Tata NEXON       XM 1.2       Manual      95230  1st Owner    Petrol   \n",
       "1  Renault Kwid  1.0 RXT Opt       Manual      72956  2nd Owner    Petrol   \n",
       "\n",
       "  registeration     price       Date  year  \n",
       "0         UP-16  650000.0 2018-12-31  2018  \n",
       "1         HR-11  319000.0 2019-03-05  2017  "
      ]
     },
     "execution_count": 35,
     "metadata": {},
     "output_type": "execute_result"
    }
   ],
   "source": [
    "dataset.head(2)"
   ]
  },
  {
   "cell_type": "code",
   "execution_count": 36,
   "id": "da147e10-72e5-490c-98cd-8acb76d85f40",
   "metadata": {},
   "outputs": [
    {
     "name": "stdout",
     "output_type": "stream",
     "text": [
      "<class 'pandas.core.frame.DataFrame'>\n",
      "Index: 887 entries, 0 to 898\n",
      "Data columns (total 10 columns):\n",
      " #   Column         Non-Null Count  Dtype         \n",
      "---  ------         --------------  -----         \n",
      " 0   car_name       887 non-null    object        \n",
      " 1   variant        887 non-null    object        \n",
      " 2   transmission   887 non-null    object        \n",
      " 3   km_driven      887 non-null    int64         \n",
      " 4   owner_type     887 non-null    object        \n",
      " 5   fuel_type      887 non-null    object        \n",
      " 6   registeration  887 non-null    object        \n",
      " 7   price          887 non-null    float64       \n",
      " 8   Date           887 non-null    datetime64[ns]\n",
      " 9   year           887 non-null    object        \n",
      "dtypes: datetime64[ns](1), float64(1), int64(1), object(7)\n",
      "memory usage: 76.2+ KB\n"
     ]
    }
   ],
   "source": [
    "dataset.info()"
   ]
  },
  {
   "cell_type": "code",
   "execution_count": 37,
   "id": "45c273ed-7b5a-4266-9a97-4a4b62d50e40",
   "metadata": {},
   "outputs": [],
   "source": [
    "dataset['year'] = pd.to_datetime(dataset['year'])"
   ]
  },
  {
   "cell_type": "code",
   "execution_count": 38,
   "id": "4c5eed96-a0c5-4d78-8a8a-066069572d55",
   "metadata": {},
   "outputs": [
    {
     "data": {
      "text/html": [
       "<div>\n",
       "<style scoped>\n",
       "    .dataframe tbody tr th:only-of-type {\n",
       "        vertical-align: middle;\n",
       "    }\n",
       "\n",
       "    .dataframe tbody tr th {\n",
       "        vertical-align: top;\n",
       "    }\n",
       "\n",
       "    .dataframe thead th {\n",
       "        text-align: right;\n",
       "    }\n",
       "</style>\n",
       "<table border=\"1\" class=\"dataframe\">\n",
       "  <thead>\n",
       "    <tr style=\"text-align: right;\">\n",
       "      <th></th>\n",
       "      <th>car_name</th>\n",
       "      <th>variant</th>\n",
       "      <th>transmission</th>\n",
       "      <th>km_driven</th>\n",
       "      <th>owner_type</th>\n",
       "      <th>fuel_type</th>\n",
       "      <th>registeration</th>\n",
       "      <th>price</th>\n",
       "      <th>Date</th>\n",
       "      <th>year</th>\n",
       "    </tr>\n",
       "  </thead>\n",
       "  <tbody>\n",
       "    <tr>\n",
       "      <th>0</th>\n",
       "      <td>Tata NEXON</td>\n",
       "      <td>XM 1.2</td>\n",
       "      <td>Manual</td>\n",
       "      <td>95230</td>\n",
       "      <td>1st Owner</td>\n",
       "      <td>Petrol</td>\n",
       "      <td>UP-16</td>\n",
       "      <td>650000.0</td>\n",
       "      <td>2018-12-31</td>\n",
       "      <td>2018-01-01</td>\n",
       "    </tr>\n",
       "    <tr>\n",
       "      <th>1</th>\n",
       "      <td>Renault Kwid</td>\n",
       "      <td>1.0 RXT Opt</td>\n",
       "      <td>Manual</td>\n",
       "      <td>72956</td>\n",
       "      <td>2nd Owner</td>\n",
       "      <td>Petrol</td>\n",
       "      <td>HR-11</td>\n",
       "      <td>319000.0</td>\n",
       "      <td>2019-03-05</td>\n",
       "      <td>2017-01-01</td>\n",
       "    </tr>\n",
       "    <tr>\n",
       "      <th>2</th>\n",
       "      <td>HYUNDAI ELITE I20</td>\n",
       "      <td>ASTA 1.2 (O)</td>\n",
       "      <td>Manual</td>\n",
       "      <td>50636</td>\n",
       "      <td>2nd Owner</td>\n",
       "      <td>Petrol</td>\n",
       "      <td>DL-7C</td>\n",
       "      <td>587000.0</td>\n",
       "      <td>2024-08-08</td>\n",
       "      <td>2017-01-01</td>\n",
       "    </tr>\n",
       "    <tr>\n",
       "      <th>3</th>\n",
       "      <td>Mahindra XUV 3OO</td>\n",
       "      <td>W8(O)</td>\n",
       "      <td>Manual</td>\n",
       "      <td>86652</td>\n",
       "      <td>1st Owner</td>\n",
       "      <td>Diesel</td>\n",
       "      <td>DL-12</td>\n",
       "      <td>822000.0</td>\n",
       "      <td>2025-01-25</td>\n",
       "      <td>2019-01-01</td>\n",
       "    </tr>\n",
       "    <tr>\n",
       "      <th>4</th>\n",
       "      <td>Hyundai Creta</td>\n",
       "      <td>1.5 SX (O) AT</td>\n",
       "      <td>Automatic</td>\n",
       "      <td>20235</td>\n",
       "      <td>1st Owner</td>\n",
       "      <td>Petrol</td>\n",
       "      <td>DL-9C</td>\n",
       "      <td>1674000.0</td>\n",
       "      <td>2020-01-14</td>\n",
       "      <td>2020-01-01</td>\n",
       "    </tr>\n",
       "  </tbody>\n",
       "</table>\n",
       "</div>"
      ],
      "text/plain": [
       "            car_name        variant transmission  km_driven owner_type  \\\n",
       "0         Tata NEXON         XM 1.2       Manual      95230  1st Owner   \n",
       "1       Renault Kwid    1.0 RXT Opt       Manual      72956  2nd Owner   \n",
       "2  HYUNDAI ELITE I20   ASTA 1.2 (O)       Manual      50636  2nd Owner   \n",
       "3   Mahindra XUV 3OO          W8(O)       Manual      86652  1st Owner   \n",
       "4      Hyundai Creta  1.5 SX (O) AT    Automatic      20235  1st Owner   \n",
       "\n",
       "  fuel_type registeration      price       Date       year  \n",
       "0    Petrol         UP-16   650000.0 2018-12-31 2018-01-01  \n",
       "1    Petrol         HR-11   319000.0 2019-03-05 2017-01-01  \n",
       "2    Petrol         DL-7C   587000.0 2024-08-08 2017-01-01  \n",
       "3    Diesel         DL-12   822000.0 2025-01-25 2019-01-01  \n",
       "4    Petrol         DL-9C  1674000.0 2020-01-14 2020-01-01  "
      ]
     },
     "execution_count": 38,
     "metadata": {},
     "output_type": "execute_result"
    }
   ],
   "source": [
    "dataset.head()"
   ]
  },
  {
   "cell_type": "code",
   "execution_count": 44,
   "id": "b996c80c-c7dc-48bc-bf7f-e6631ff95640",
   "metadata": {},
   "outputs": [],
   "source": [
    "dataset.to_csv('D:\\DA DS\\data cleaning datasets\\cars_cleaned_data.csv')"
   ]
  },
  {
   "cell_type": "code",
   "execution_count": null,
   "id": "15691aba-942c-4bfd-994a-15770a7e23d3",
   "metadata": {},
   "outputs": [],
   "source": []
  }
 ],
 "metadata": {
  "kernelspec": {
   "display_name": "Python [conda env:base] *",
   "language": "python",
   "name": "conda-base-py"
  },
  "language_info": {
   "codemirror_mode": {
    "name": "ipython",
    "version": 3
   },
   "file_extension": ".py",
   "mimetype": "text/x-python",
   "name": "python",
   "nbconvert_exporter": "python",
   "pygments_lexer": "ipython3",
   "version": "3.13.5"
  }
 },
 "nbformat": 4,
 "nbformat_minor": 5
}
